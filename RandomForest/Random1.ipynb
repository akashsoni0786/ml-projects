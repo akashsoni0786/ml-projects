{
 "cells": [
  {
   "cell_type": "code",
   "execution_count": 1,
   "id": "47ac2b63",
   "metadata": {},
   "outputs": [],
   "source": [
    "import pandas as pd"
   ]
  },
  {
   "cell_type": "code",
   "execution_count": 2,
   "id": "42cd55d1",
   "metadata": {},
   "outputs": [],
   "source": [
    "data = pd.read_csv(\"C:\\\\Users\\\\AKASH SONI\\\\Downloads\\\\IRIS.csv\")\n",
    "def speciesFunc(k):\n",
    "    if k == \"Iris-setosa\":\n",
    "        return 0\n",
    "    if k == \"Iris-versicolor\":\n",
    "        return 1\n",
    "    if k == \"Iris-virginica\":\n",
    "        return 2 \n",
    "\n",
    "    \n",
    "data['species']=data['species'].apply(speciesFunc)\n",
    "\n",
    "data['species']\n",
    "\n",
    "def speciesName(k):\n",
    "    if k == 0:\n",
    "        return \"Iris-setosa\"\n",
    "    if k == 1:\n",
    "        return \"Iris-versicolor\"\n",
    "    if k == 2:\n",
    "        return \"Iris-virginica\" \n"
   ]
  },
  {
   "cell_type": "code",
   "execution_count": 3,
   "id": "ef63cb6b",
   "metadata": {},
   "outputs": [],
   "source": [
    "x = data.iloc[:,0:4].values\n",
    "y = data['species'].values"
   ]
  },
  {
   "cell_type": "code",
   "execution_count": 4,
   "id": "7d485466",
   "metadata": {},
   "outputs": [],
   "source": [
    "from sklearn.model_selection import train_test_split\n",
    "x_train,x_test,y_train,y_test= train_test_split(x,y)"
   ]
  },
  {
   "cell_type": "code",
   "execution_count": 18,
   "id": "7d9c672d",
   "metadata": {},
   "outputs": [
    {
     "data": {
      "text/plain": [
       "RandomForestClassifier(n_estimators=300)"
      ]
     },
     "execution_count": 18,
     "metadata": {},
     "output_type": "execute_result"
    }
   ],
   "source": [
    "from sklearn.ensemble import RandomForestClassifier\n",
    "\n",
    "r = RandomForestClassifier(n_estimators=300)\n",
    "r.fit(x_train,y_train)"
   ]
  },
  {
   "cell_type": "code",
   "execution_count": 19,
   "id": "a80316ba",
   "metadata": {},
   "outputs": [],
   "source": [
    "pr=r.predict(x_test)"
   ]
  },
  {
   "cell_type": "code",
   "execution_count": 20,
   "id": "13613850",
   "metadata": {},
   "outputs": [
    {
     "name": "stdout",
     "output_type": "stream",
     "text": [
      "100.0 %\n"
     ]
    }
   ],
   "source": [
    "from sklearn.metrics import accuracy_score\n",
    "print(accuracy_score(y_test,pr)*100,'%')"
   ]
  },
  {
   "cell_type": "code",
   "execution_count": null,
   "id": "45408d30",
   "metadata": {},
   "outputs": [],
   "source": []
  },
  {
   "cell_type": "code",
   "execution_count": null,
   "id": "ed400a65",
   "metadata": {},
   "outputs": [],
   "source": []
  }
 ],
 "metadata": {
  "kernelspec": {
   "display_name": "Python 3",
   "language": "python",
   "name": "python3"
  },
  "language_info": {
   "codemirror_mode": {
    "name": "ipython",
    "version": 3
   },
   "file_extension": ".py",
   "mimetype": "text/x-python",
   "name": "python",
   "nbconvert_exporter": "python",
   "pygments_lexer": "ipython3",
   "version": "3.8.8"
  }
 },
 "nbformat": 4,
 "nbformat_minor": 5
}
