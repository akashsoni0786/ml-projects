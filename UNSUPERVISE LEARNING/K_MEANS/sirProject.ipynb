{
 "cells": [
  {
   "cell_type": "code",
   "execution_count": 1,
   "id": "73eefe59",
   "metadata": {},
   "outputs": [],
   "source": [
    "import pandas as pd"
   ]
  },
  {
   "cell_type": "code",
   "execution_count": 18,
   "id": "4764985d",
   "metadata": {},
   "outputs": [
    {
     "data": {
      "text/plain": [
       "Gender                                                                                    1121112122\n",
       "V 1. Age                                                                                  2432224324\n",
       "V 2. Occupation (Government Employee with salary slip & ITR of last three years)                 4.0\n",
       "V 3. Occupation (Private employee Employee with salary slip & ITR of last three years)    0001110000\n",
       "V 4. Occupation (Business with IT return of last three years)                             0000000111\n",
       "V 10. Ownership Status of House (Owned/Rented)                                            1212121212\n",
       "V 11. Previous history of loan from other banks                                                  7.0\n",
       "V 13. Default status                                                                      1000001000\n",
       "V 14. Minimum Net Monthly Income                                                          1233212321\n",
       "V 15. Credit Score (CIBIL Score)                                                          2111112111\n",
       "V 16. Collaterals/guarantee                                                               0111110111\n",
       "V 18. Guarantor�s Documents (Personal details, PAN/AADHAR Card, Employment details.)      1110110111\n",
       "V 20. Value of the Property/assets owned                                                  1110110111\n",
       "V 21. Credit Card                                                                         1110110111\n",
       "Loan Previous status                                                                             4.0\n",
       "dtype: object"
      ]
     },
     "execution_count": 18,
     "metadata": {},
     "output_type": "execute_result"
    }
   ],
   "source": [
    "data = pd.read_csv(\"C:\\\\Users\\\\AKASH SONI\\\\Downloads\\\\CREDIT CRITERION.csv\")\n",
    "data= data.iloc[:10,:31]\n",
    "x = data.iloc[:,:15]\n",
    "x.sum()"
   ]
  },
  {
   "cell_type": "code",
   "execution_count": 3,
   "id": "a6400174",
   "metadata": {},
   "outputs": [],
   "source": [
    "from sklearn.cluster import KMeans\n",
    "kmeans = KMeans(n_clusters=2)"
   ]
  },
  {
   "cell_type": "code",
   "execution_count": 4,
   "id": "f7548cb4",
   "metadata": {},
   "outputs": [
    {
     "data": {
      "text/plain": [
       "KMeans(n_clusters=2)"
      ]
     },
     "execution_count": 4,
     "metadata": {},
     "output_type": "execute_result"
    }
   ],
   "source": [
    "kmeans.fit(data)"
   ]
  },
  {
   "cell_type": "code",
   "execution_count": 5,
   "id": "9121f46b",
   "metadata": {},
   "outputs": [
    {
     "data": {
      "text/plain": [
       "array([[1.44444444, 2.66666667, 0.33333333, 0.33333333, 0.33333333,\n",
       "        1.44444444, 0.66666667, 0.22222222, 2.        , 1.22222222,\n",
       "        0.77777778, 0.77777778, 0.77777778, 0.77777778, 0.44444444,\n",
       "        0.55555556, 0.22222222, 0.44444444, 0.44444444, 0.44444444,\n",
       "        4.22222222, 3.44444444, 3.        , 1.33333333, 2.11111111,\n",
       "        2.66666667, 4.22222222, 4.11111111, 3.33333333, 3.77777778,\n",
       "        4.11111111],\n",
       "       [1.        , 4.        , 1.        , 0.        , 0.        ,\n",
       "        2.        , 1.        , 0.        , 2.        , 1.        ,\n",
       "        1.        , 1.        , 1.        , 1.        , 0.        ,\n",
       "        0.        , 1.        , 0.        , 0.        , 0.        ,\n",
       "        1.        , 3.        , 3.        , 1.        , 1.        ,\n",
       "        1.        , 1.        , 1.        , 1.        , 1.        ,\n",
       "        1.        ]])"
      ]
     },
     "execution_count": 5,
     "metadata": {},
     "output_type": "execute_result"
    }
   ],
   "source": [
    "kmeans.cluster_centers_"
   ]
  },
  {
   "cell_type": "code",
   "execution_count": 6,
   "id": "86eb215c",
   "metadata": {},
   "outputs": [
    {
     "data": {
      "text/plain": [
       "array([0, 1, 0, 0, 0, 0, 0, 0, 0, 0])"
      ]
     },
     "execution_count": 6,
     "metadata": {},
     "output_type": "execute_result"
    }
   ],
   "source": [
    "kmeans.labels_"
   ]
  },
  {
   "cell_type": "code",
   "execution_count": 7,
   "id": "3d671368",
   "metadata": {},
   "outputs": [],
   "source": [
    "import numpy as np"
   ]
  },
  {
   "cell_type": "code",
   "execution_count": 8,
   "id": "fa901439",
   "metadata": {},
   "outputs": [],
   "source": [
    "unique, counts = np.unique(kmeans.labels_,return_counts=True)"
   ]
  },
  {
   "cell_type": "code",
   "execution_count": 9,
   "id": "cb64d122",
   "metadata": {},
   "outputs": [
    {
     "data": {
      "text/plain": [
       "{0: 9, 1: 1}"
      ]
     },
     "execution_count": 9,
     "metadata": {},
     "output_type": "execute_result"
    }
   ],
   "source": [
    "dict_data = dict(zip(unique, counts))\n",
    "dict_data"
   ]
  },
  {
   "cell_type": "code",
   "execution_count": 10,
   "id": "2d0db5f9",
   "metadata": {},
   "outputs": [],
   "source": [
    "import seaborn as sns\n",
    "data['cluster'] = kmeans.labels_"
   ]
  },
  {
   "cell_type": "code",
   "execution_count": 14,
   "id": "a0aaa589",
   "metadata": {},
   "outputs": [
    {
     "data": {
      "text/plain": [
       "<seaborn.axisgrid.FacetGrid at 0x20e605c7fd0>"
      ]
     },
     "execution_count": 14,
     "metadata": {},
     "output_type": "execute_result"
    },
    {
     "data": {
      "image/png": "[encoded data removed]",
      "text/plain": [
       "<Figure size 474.375x432 with 1 Axes>"
      ]
     },
     "metadata": {
      "needs_background": "light"
     },
     "output_type": "display_data"
    }
   ],
   "source": [
    "sns.lmplot('loan Person','Loan Previous status',data= data,hue=\"cluster\",palette = \"coolwarm\",size=6,aspect= 1,fit_reg=False)"
   ]
  },
  {
   "cell_type": "code",
   "execution_count": 15,
   "id": "d5219369",
   "metadata": {},
   "outputs": [
    {
     "data": {
      "text/plain": [
       "122.0"
      ]
     },
     "execution_count": 15,
     "metadata": {},
     "output_type": "execute_result"
    }
   ],
   "source": [
    "kmeans.inertia_"
   ]
  },
  {
   "cell_type": "code",
   "execution_count": 16,
   "id": "ccac6b16",
   "metadata": {},
   "outputs": [
    {
     "data": {
      "text/plain": [
       "<bound method KMeans.score of KMeans(n_clusters=2)>"
      ]
     },
     "execution_count": 16,
     "metadata": {},
     "output_type": "execute_result"
    }
   ],
   "source": [
    "kmeans.score"
   ]
  },
  {
   "cell_type": "code",
   "execution_count": null,
   "id": "737fe19e",
   "metadata": {},
   "outputs": [],
   "source": []
  },
  {
   "cell_type": "code",
   "execution_count": null,
   "id": "6201a91c",
   "metadata": {},
   "outputs": [],
   "source": []
  }
 ],
 "metadata": {
  "kernelspec": {
   "display_name": "Python 3",
   "language": "python",
   "name": "python3"
  },
  "language_info": {
   "codemirror_mode": {
    "name": "ipython",
    "version": 3
   },
   "file_extension": ".py",
   "mimetype": "text/x-python",
   "name": "python",
   "nbconvert_exporter": "python",
   "pygments_lexer": "ipython3",
   "version": "3.8.8"
  }
 },
 "nbformat": 4,
 "nbformat_minor": 5
}
