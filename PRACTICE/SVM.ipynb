{
 "cells": [
  {
   "cell_type": "code",
   "execution_count": 1,
   "id": "283614fc",
   "metadata": {},
   "outputs": [],
   "source": [
    "import pandas as pd"
   ]
  },
  {
   "cell_type": "code",
   "execution_count": 26,
   "id": "2f0ecd49",
   "metadata": {},
   "outputs": [],
   "source": [
    "data = pd.read_csv(\"C:\\\\Users\\\\AKASH SONI\\\\Downloads\\\\IRIS.csv\")\n",
    "\n",
    "x = data.iloc[:,0:4].values\n",
    "y = data['species']\n",
    "l=y.unique()\n",
    "\n",
    "# def func(k):\n",
    "#     for i in l:\n",
    "#         lst = filter(lambda k:(k == l[i]),l)\n",
    "#         return lst\n",
    "# y = data['species'].apply(func)\n",
    "# y\n",
    "\n",
    "def speciesFunction(k):\n",
    "    if k =='Iris-setosa':\n",
    "        return 0\n",
    "    if k =='Iris-versicolor':\n",
    "        return 1\n",
    "    if k =='Iris-virginica':\n",
    "        return 2\n",
    "\n",
    "y = data['species'].apply(speciesFunction)  \n",
    "\n",
    "\n",
    "def speciesName(k):\n",
    "    if k ==0:\n",
    "        return 'Iris-setosa'\n",
    "    if k ==1:\n",
    "        return 'Iris-versicolor'\n",
    "    if k ==2:\n",
    "        return 'Iris-virginica'"
   ]
  },
  {
   "cell_type": "code",
   "execution_count": 3,
   "id": "ada53afe",
   "metadata": {},
   "outputs": [],
   "source": [
    "from sklearn.model_selection import train_test_split\n",
    "x_train,x_test,y_train,y_test= train_test_split(x,y)"
   ]
  },
  {
   "cell_type": "code",
   "execution_count": 4,
   "id": "93a49bb6",
   "metadata": {},
   "outputs": [],
   "source": [
    "from sklearn.svm import SVC\n",
    "svc = SVC()"
   ]
  },
  {
   "cell_type": "code",
   "execution_count": 5,
   "id": "5ee56252",
   "metadata": {},
   "outputs": [
    {
     "data": {
      "text/plain": [
       "SVC()"
      ]
     },
     "execution_count": 5,
     "metadata": {},
     "output_type": "execute_result"
    }
   ],
   "source": [
    "svc.fit(x_train,y_train)"
   ]
  },
  {
   "cell_type": "code",
   "execution_count": 32,
   "id": "753cd17d",
   "metadata": {},
   "outputs": [
    {
     "data": {
      "text/plain": [
       "array([2, 1, 1, 1, 2, 2, 2, 2, 2, 2, 1, 1, 0, 0, 1, 0, 1, 2, 2, 2, 0, 0,\n",
       "       2, 1, 0, 1, 1, 1, 1, 2, 0, 1, 0, 0, 2, 1, 1, 0], dtype=int64)"
      ]
     },
     "execution_count": 32,
     "metadata": {},
     "output_type": "execute_result"
    }
   ],
   "source": [
    "pr=svc.predict(x_test)\n",
    "pr"
   ]
  },
  {
   "cell_type": "code",
   "execution_count": 20,
   "id": "4c3624e3",
   "metadata": {},
   "outputs": [
    {
     "data": {
      "text/plain": [
       "0.8947368421052632"
      ]
     },
     "execution_count": 20,
     "metadata": {},
     "output_type": "execute_result"
    }
   ],
   "source": [
    "from sklearn.metrics import accuracy_score\n",
    "accuracy_score(pr,y_test)"
   ]
  },
  {
   "cell_type": "code",
   "execution_count": 33,
   "id": "4bbf19bb",
   "metadata": {},
   "outputs": [],
   "source": [
    "# import matplotlib.pyplot as plt\n",
    "\n",
    "# plt.plot(x_test,y_test)\n",
    "# plt.plot(x_train,y_train)"
   ]
  },
  {
   "cell_type": "code",
   "execution_count": null,
   "id": "63f7734e",
   "metadata": {},
   "outputs": [],
   "source": []
  },
  {
   "cell_type": "code",
   "execution_count": null,
   "id": "ada2f75c",
   "metadata": {},
   "outputs": [],
   "source": []
  }
 ],
 "metadata": {
  "kernelspec": {
   "display_name": "Python 3",
   "language": "python",
   "name": "python3"
  },
  "language_info": {
   "codemirror_mode": {
    "name": "ipython",
    "version": 3
   },
   "file_extension": ".py",
   "mimetype": "text/x-python",
   "name": "python",
   "nbconvert_exporter": "python",
   "pygments_lexer": "ipython3",
   "version": "3.8.8"
  }
 },
 "nbformat": 4,
 "nbformat_minor": 5
}
