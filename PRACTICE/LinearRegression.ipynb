{
 "cells": [
  {
   "cell_type": "code",
   "execution_count": 1,
   "id": "35679c3b",
   "metadata": {},
   "outputs": [],
   "source": [
    "import pandas as pd"
   ]
  },
  {
   "cell_type": "code",
   "execution_count": 2,
   "id": "6b3faded",
   "metadata": {},
   "outputs": [],
   "source": [
    "data = pd.read_csv(\"C:\\\\Users\\\\AKASH SONI\\\\Downloads\\\\IRIS.csv\")\n",
    "\n",
    "x = data.iloc[:,0:4].values\n",
    "y = data['species']\n",
    "l=y.unique()\n",
    "\n",
    "def speciesFunction(k):\n",
    "    if k =='Iris-setosa':\n",
    "        return 0\n",
    "    if k =='Iris-versicolor':\n",
    "        return 1\n",
    "    if k =='Iris-virginica':\n",
    "        return 2\n",
    "\n",
    "y = data['species'].apply(speciesFunction)  \n",
    "\n",
    "\n",
    "def speciesName(k):\n",
    "    if k ==0:\n",
    "        return 'Iris-setosa'\n",
    "    if k ==1:\n",
    "        return 'Iris-versicolor'\n",
    "    if k ==2:\n",
    "        return 'Iris-virginica'"
   ]
  },
  {
   "cell_type": "code",
   "execution_count": 5,
   "id": "005f78cd",
   "metadata": {},
   "outputs": [],
   "source": [
    "from sklearn.model_selection import train_test_split\n",
    "x_train,x_test,y_train,y_test= train_test_split(x,y)"
   ]
  },
  {
   "cell_type": "code",
   "execution_count": 8,
   "id": "5740f897",
   "metadata": {},
   "outputs": [
    {
     "data": {
      "text/plain": [
       "array([ 1.00886656, -0.12954025,  1.61578122,  1.93459562, -0.08818928,\n",
       "        1.10361316,  1.26057207,  1.17088984,  1.27551843,  1.24753088,\n",
       "       -0.1038004 ,  1.89752658,  1.43087411, -0.08675224, -0.10138651,\n",
       "        1.39809653, -0.02062972,  2.21204953,  1.78284758,  1.57331544,\n",
       "        1.4907797 ,  0.14366093,  2.0225281 ,  1.46618387, -0.05255729,\n",
       "        1.34910967,  2.12314972,  1.60258399, -0.07306659, -0.3017779 ,\n",
       "        1.80994553,  2.04429872, -0.15623726,  1.27998623,  0.02982241,\n",
       "        1.06974044,  0.10885927,  1.73027435])"
      ]
     },
     "execution_count": 8,
     "metadata": {},
     "output_type": "execute_result"
    }
   ],
   "source": [
    "# x=x.reshape(-1,1)\n",
    "# y=y.reshape(-1,1)\n",
    "from sklearn.linear_model import LinearRegression\n",
    "lr = LinearRegression()\n",
    "lr.fit(x_train,y_train)\n",
    "pr=lr.predict(x_test)\n",
    "pr"
   ]
  },
  {
   "cell_type": "code",
   "execution_count": 20,
   "id": "9c6ac0e0",
   "metadata": {},
   "outputs": [
    {
     "name": "stdout",
     "output_type": "stream",
     "text": [
      "23.974269351395307 %\n"
     ]
    }
   ],
   "source": [
    "import math\n",
    "\n",
    "from sklearn.metrics import mean_squared_error\n",
    "\n",
    "rmse = math.sqrt(mean_squared_error(y_test,pr))\n",
    "print(rmse*100,'%')"
   ]
  },
  {
   "cell_type": "code",
   "execution_count": 21,
   "id": "5a15ca7d",
   "metadata": {},
   "outputs": [
    {
     "name": "stdout",
     "output_type": "stream",
     "text": [
      "91.25435707789656 %\n"
     ]
    }
   ],
   "source": [
    "print(lr.score(x_test,y_test)*100,\"%\")"
   ]
  },
  {
   "cell_type": "code",
   "execution_count": null,
   "id": "964c8eb5",
   "metadata": {},
   "outputs": [],
   "source": []
  }
 ],
 "metadata": {
  "kernelspec": {
   "display_name": "Python 3",
   "language": "python",
   "name": "python3"
  },
  "language_info": {
   "codemirror_mode": {
    "name": "ipython",
    "version": 3
   },
   "file_extension": ".py",
   "mimetype": "text/x-python",
   "name": "python",
   "nbconvert_exporter": "python",
   "pygments_lexer": "ipython3",
   "version": "3.8.8"
  }
 },
 "nbformat": 4,
 "nbformat_minor": 5
}
